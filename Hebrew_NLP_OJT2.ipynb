{
 "cells": [
  {
   "cell_type": "markdown",
   "id": "87201fbc",
   "metadata": {},
   "source": [
    "## OJT2 - Hebrew  Sentimental Classifier"
   ]
  },
  {
   "cell_type": "code",
   "execution_count": 1,
   "id": "2115759e",
   "metadata": {},
   "outputs": [],
   "source": [
    "import codecs\n",
    "import re\n",
    "import pandas as pd\n",
    "import numpy as np\n",
    "from sklearn.feature_extraction.text import TfidfTransformer \n",
    "from sklearn.feature_extraction.text import TfidfVectorizer\n",
    "from sklearn.linear_model import LogisticRegression\n",
    "from sklearn.naive_bayes import GaussianNB\n",
    "from sklearn.metrics import confusion_matrix, accuracy_score\n",
    "import seaborn as sn\n",
    "import matplotlib.pyplot as plt\n",
    "from bidi.algorithm import get_display\n",
    "from wordcloud import WordCloud\n",
    "from sklearn.feature_extraction.text import CountVectorizer"
   ]
  },
  {
   "cell_type": "code",
   "execution_count": 2,
   "id": "3db0748c",
   "metadata": {},
   "outputs": [],
   "source": [
    "# Get Hebrew stop words - taken from https://github.com/gidim/HebrewStopWords\n",
    "\n",
    "heb_stopwords = list(pd.read_csv('data\\\\heb_stopwords.txt').values.squeeze())\n",
    "\n",
    "def remove_eng_sec(df):\n",
    "    for i, l in enumerate(df):\n",
    "        df.loc[i] = re.sub(\"[^\\u0590-\\u05FF]+\", \" \", l)\n",
    "    return df\n",
    "    \n",
    "def remove_heb_stopwords(df, stopwords):\n",
    "    for i, line in enumerate(df):\n",
    "        line = ' '.join([word for word in line.split() if word not in stopwords])\n",
    "        df.loc[i] = line\n",
    "    return df"
   ]
  },
  {
   "cell_type": "markdown",
   "id": "aa2dffcd",
   "metadata": {},
   "source": [
    "### Conversion of data to train & test"
   ]
  },
  {
   "cell_type": "code",
   "execution_count": 3,
   "id": "0a2fd671",
   "metadata": {},
   "outputs": [],
   "source": [
    "morph_train= pd.read_csv('data\\\\morph_train.tsv', delimiter='\\t', quoting=3, names=['Sentence', 'y']) \n",
    "morph_test= pd.read_csv('data\\\\morph_test.tsv', delimiter='\\t' ,quoting=3, names=['Sentence', 'y'])\n",
    "#morph_train.columns = ['Sentence', 'y'] # For some reason it doesn't work, so had to find another way (such as names)\n",
    "#morph_test.columns = ['Sentence', 'y']\n",
    "\n",
    "\n",
    "# Change y values to labels\n",
    "morph_train[\"y\"].replace({0: \"Pos\", 1: \"Neg\", 2: \"Nat\"}, inplace=True)\n",
    "morph_test[\"y\"].replace({0: \"Pos\", 1: \"Neg\", 2: \"Nat\"}, inplace=True)"
   ]
  },
  {
   "cell_type": "code",
   "execution_count": 4,
   "id": "cf0276fb",
   "metadata": {},
   "outputs": [
    {
     "data": {
      "text/html": [
       "<div>\n",
       "<style scoped>\n",
       "    .dataframe tbody tr th:only-of-type {\n",
       "        vertical-align: middle;\n",
       "    }\n",
       "\n",
       "    .dataframe tbody tr th {\n",
       "        vertical-align: top;\n",
       "    }\n",
       "\n",
       "    .dataframe thead th {\n",
       "        text-align: right;\n",
       "    }\n",
       "</style>\n",
       "<table border=\"1\" class=\"dataframe\">\n",
       "  <thead>\n",
       "    <tr style=\"text-align: right;\">\n",
       "      <th></th>\n",
       "      <th>Sentence</th>\n",
       "      <th>y</th>\n",
       "    </tr>\n",
       "  </thead>\n",
       "  <tbody>\n",
       "    <tr>\n",
       "      <th>0</th>\n",
       "      <td>ממש כואב ..... אני בכה את היא עם ה משפחה ש לא ...</td>\n",
       "      <td>Pos</td>\n",
       "    </tr>\n",
       "    <tr>\n",
       "      <th>1</th>\n",
       "      <td>איש יקר של אנחנו</td>\n",
       "      <td>Pos</td>\n",
       "    </tr>\n",
       "    <tr>\n",
       "      <th>2</th>\n",
       "      <td>כל ה כבוד ו המון ב הצלחה</td>\n",
       "      <td>Pos</td>\n",
       "    </tr>\n",
       "    <tr>\n",
       "      <th>3</th>\n",
       "      <td>\" תל חי , רובי . ב כל ה עצב ה זה היית קרן אור ...</td>\n",
       "      <td>Pos</td>\n",
       "    </tr>\n",
       "    <tr>\n",
       "      <th>4</th>\n",
       "      <td>נקי כפיים ו בר לבב ב הצלחה ל אתה ו ל אנחנו .</td>\n",
       "      <td>Pos</td>\n",
       "    </tr>\n",
       "  </tbody>\n",
       "</table>\n",
       "</div>"
      ],
      "text/plain": [
       "                                            Sentence    y\n",
       "0  ממש כואב ..... אני בכה את היא עם ה משפחה ש לא ...  Pos\n",
       "1                                   איש יקר של אנחנו  Pos\n",
       "2                           כל ה כבוד ו המון ב הצלחה  Pos\n",
       "3  \" תל חי , רובי . ב כל ה עצב ה זה היית קרן אור ...  Pos\n",
       "4       נקי כפיים ו בר לבב ב הצלחה ל אתה ו ל אנחנו .  Pos"
      ]
     },
     "execution_count": 4,
     "metadata": {},
     "output_type": "execute_result"
    }
   ],
   "source": [
    "morph_train.head()"
   ]
  },
  {
   "cell_type": "code",
   "execution_count": 5,
   "id": "92c75d17",
   "metadata": {},
   "outputs": [
    {
     "data": {
      "text/plain": [
       "(10244, 2)"
      ]
     },
     "execution_count": 5,
     "metadata": {},
     "output_type": "execute_result"
    }
   ],
   "source": [
    "morph_train.shape"
   ]
  },
  {
   "cell_type": "markdown",
   "id": "0c32598d",
   "metadata": {},
   "source": [
    "### Data Cleaning"
   ]
  },
  {
   "cell_type": "code",
   "execution_count": 6,
   "id": "0ce9253b",
   "metadata": {},
   "outputs": [],
   "source": [
    "morph_train[\"Sentence\"] = remove_heb_stopwords(morph_train[\"Sentence\"], heb_stopwords)\n",
    "morph_test[\"Sentence\"] = remove_heb_stopwords(morph_test[\"Sentence\"], heb_stopwords)\n",
    "\n",
    "morph_train[\"Sentence\"] = remove_eng_sec(morph_train[\"Sentence\"])\n",
    "morph_test[\"Sentence\"]  =  remove_eng_sec(morph_test[\"Sentence\"])\n",
    "\n",
    "#morph_train[\"Sentence\"] = remove_eng_words(morph_train[\"Sentence\"])\n",
    "#morph_test[\"Sentence\"]  =  remove_eng_words(morph_test[\"Sentence\"])\n",
    "\n"
   ]
  },
  {
   "cell_type": "code",
   "execution_count": 7,
   "id": "caef28aa",
   "metadata": {},
   "outputs": [
    {
     "data": {
      "text/html": [
       "<div>\n",
       "<style scoped>\n",
       "    .dataframe tbody tr th:only-of-type {\n",
       "        vertical-align: middle;\n",
       "    }\n",
       "\n",
       "    .dataframe tbody tr th {\n",
       "        vertical-align: top;\n",
       "    }\n",
       "\n",
       "    .dataframe thead th {\n",
       "        text-align: right;\n",
       "    }\n",
       "</style>\n",
       "<table border=\"1\" class=\"dataframe\">\n",
       "  <thead>\n",
       "    <tr style=\"text-align: right;\">\n",
       "      <th></th>\n",
       "      <th>Sentence</th>\n",
       "      <th>y</th>\n",
       "    </tr>\n",
       "  </thead>\n",
       "  <tbody>\n",
       "    <tr>\n",
       "      <th>0</th>\n",
       "      <td>כואב בכה את משפחה תדעו צער</td>\n",
       "      <td>Pos</td>\n",
       "    </tr>\n",
       "    <tr>\n",
       "      <th>1</th>\n",
       "      <td>איש יקר</td>\n",
       "      <td>Pos</td>\n",
       "    </tr>\n",
       "    <tr>\n",
       "      <th>2</th>\n",
       "      <td>כבוד הצלחה</td>\n",
       "      <td>Pos</td>\n",
       "    </tr>\n",
       "    <tr>\n",
       "      <th>3</th>\n",
       "      <td>תל חי רובי עצב היית אור תקוה אכן נשיא</td>\n",
       "      <td>Pos</td>\n",
       "    </tr>\n",
       "    <tr>\n",
       "      <th>4</th>\n",
       "      <td>נקי כפיים לבב הצלחה</td>\n",
       "      <td>Pos</td>\n",
       "    </tr>\n",
       "  </tbody>\n",
       "</table>\n",
       "</div>"
      ],
      "text/plain": [
       "                                  Sentence    y\n",
       "0               כואב בכה את משפחה תדעו צער  Pos\n",
       "1                                  איש יקר  Pos\n",
       "2                               כבוד הצלחה  Pos\n",
       "3   תל חי רובי עצב היית אור תקוה אכן נשיא   Pos\n",
       "4                     נקי כפיים לבב הצלחה   Pos"
      ]
     },
     "execution_count": 7,
     "metadata": {},
     "output_type": "execute_result"
    }
   ],
   "source": [
    "morph_train.head()"
   ]
  },
  {
   "cell_type": "code",
   "execution_count": 8,
   "id": "69bc8a07",
   "metadata": {},
   "outputs": [
    {
     "data": {
      "text/plain": [
       "(10244, 2)"
      ]
     },
     "execution_count": 8,
     "metadata": {},
     "output_type": "execute_result"
    }
   ],
   "source": [
    "morph_train.shape"
   ]
  },
  {
   "cell_type": "code",
   "execution_count": 9,
   "id": "a28ce4c2",
   "metadata": {},
   "outputs": [],
   "source": [
    "nan_value = float(\"NaN\")\n",
    "morph_train.replace(\"\", nan_value, inplace=True)\n",
    "morph_test.replace(\"\", nan_value, inplace=True)\n",
    "\n",
    "morph_train.dropna(subset = [\"Sentence\"], inplace=True)\n",
    "morph_test.dropna(subset = [\"Sentence\"], inplace=True)"
   ]
  },
  {
   "cell_type": "code",
   "execution_count": 10,
   "id": "fb06c869",
   "metadata": {},
   "outputs": [
    {
     "data": {
      "text/plain": [
       "(10201, 2)"
      ]
     },
     "execution_count": 10,
     "metadata": {},
     "output_type": "execute_result"
    }
   ],
   "source": [
    "morph_train.shape"
   ]
  },
  {
   "cell_type": "markdown",
   "id": "8fb63807",
   "metadata": {},
   "source": [
    "### TF - IDF vectorizer (for train & test)"
   ]
  },
  {
   "cell_type": "code",
   "execution_count": 11,
   "id": "99e5bad8",
   "metadata": {},
   "outputs": [
    {
     "name": "stdout",
     "output_type": "stream",
     "text": [
      "(10201, 16338) (10201,)\n",
      "(2550, 16338) (2550,)\n"
     ]
    }
   ],
   "source": [
    "# For x morph train data\n",
    "vector = TfidfVectorizer(use_idf=True, stop_words=heb_stopwords)\n",
    "tfidf_vectorizer_morph_train=TfidfVectorizer(use_idf=True, max_df = 0.95) \n",
    "\n",
    "\n",
    "X_train = vector.fit_transform(morph_train['Sentence']).toarray()\n",
    "X_test = vector.transform(morph_test['Sentence']).toarray()\n",
    "y_train = morph_train['y']\n",
    "y_test = morph_test['y']\n",
    "print(X_train.shape, y_train.shape)\n",
    "print(X_test.shape, y_test.shape)\n"
   ]
  },
  {
   "cell_type": "markdown",
   "id": "3eba3a20",
   "metadata": {},
   "source": [
    "#### Logistic Regression Classifier"
   ]
  },
  {
   "cell_type": "code",
   "execution_count": 12,
   "id": "77b65ad9",
   "metadata": {},
   "outputs": [
    {
     "data": {
      "text/plain": [
       "LogisticRegression()"
      ]
     },
     "execution_count": 12,
     "metadata": {},
     "output_type": "execute_result"
    }
   ],
   "source": [
    "# For classifier\n",
    "classifier = LogisticRegression()\n",
    "classifier.fit(X_train, y_train)"
   ]
  },
  {
   "cell_type": "markdown",
   "id": "85ee0523",
   "metadata": {},
   "source": [
    "#### Confusion Matrix"
   ]
  },
  {
   "cell_type": "code",
   "execution_count": 13,
   "id": "2ba6069c",
   "metadata": {},
   "outputs": [
    {
     "name": "stdout",
     "output_type": "stream",
     "text": [
      "[[  64   74  156]\n",
      " [   0 2917  208]\n",
      " [   2  111 6669]]\n"
     ]
    },
    {
     "data": {
      "text/plain": [
       "0.9459856876776787"
      ]
     },
     "execution_count": 13,
     "metadata": {},
     "output_type": "execute_result"
    }
   ],
   "source": [
    "y_pred_train = classifier.predict(X_train)\n",
    "cm_train = confusion_matrix(y_train, y_pred_train)\n",
    "print(cm_train)\n",
    "accuracy_score(y_train, y_pred_train)"
   ]
  },
  {
   "cell_type": "code",
   "execution_count": 14,
   "id": "aca8ea31",
   "metadata": {},
   "outputs": [
    {
     "name": "stdout",
     "output_type": "stream",
     "text": [
      "[[   9   20   42]\n",
      " [   0  639  151]\n",
      " [   1   65 1623]]\n"
     ]
    },
    {
     "data": {
      "text/plain": [
       "0.8905882352941177"
      ]
     },
     "execution_count": 14,
     "metadata": {},
     "output_type": "execute_result"
    }
   ],
   "source": [
    "y_pred_test = classifier.predict(X_test)\n",
    "cm_test = confusion_matrix(y_test, y_pred_test)\n",
    "print(cm_test)\n",
    "accuracy_score(y_test, y_pred_test)"
   ]
  },
  {
   "cell_type": "code",
   "execution_count": 15,
   "id": "ef3b02bd",
   "metadata": {},
   "outputs": [
    {
     "data": {
      "text/plain": [
       "<AxesSubplot:>"
      ]
     },
     "execution_count": 15,
     "metadata": {},
     "output_type": "execute_result"
    },
    {
     "data": {
      "image/png": "[encoded data removed]",
      "text/plain": [
       "<Figure size 720x504 with 2 Axes>"
      ]
     },
     "metadata": {
      "needs_background": "light"
     },
     "output_type": "display_data"
    }
   ],
   "source": [
    "df_confusion = pd.DataFrame(cm_test,index = ['Actual Pos', 'Actual Neg', 'Actual Nat'], columns = ['Predicted Pos', 'Predicted Neg', 'Predicted Nat'])\n",
    "plt.figure(figsize = (10,7))\n",
    "sn.heatmap(df_confusion, annot=True, cmap=\"Greens\", linewidths=2, fmt='g')"
   ]
  },
  {
   "cell_type": "markdown",
   "id": "aed825eb",
   "metadata": {},
   "source": [
    "#### We can see that the lowest sentiment prediction rate was Pos"
   ]
  },
  {
   "cell_type": "code",
   "execution_count": 16,
   "id": "92c55777",
   "metadata": {},
   "outputs": [],
   "source": [
    "feature_names = vector.get_feature_names()\n",
    "feature_names = [get_display(word) for word in feature_names]\n",
    "importances = classifier.coef_\n",
    "sorted_importances = []\n",
    "for i in range(3):\n",
    "    zipped_lists = zip(importances[i], feature_names)\n",
    "    sorted_importances.append(dict(sorted(zipped_lists)[::-1]))"
   ]
  },
  {
   "cell_type": "code",
   "execution_count": 17,
   "id": "fcd73391",
   "metadata": {},
   "outputs": [
    {
     "data": {
      "image/png": "[encoded data removed]",
      "text/plain": [
       "<Figure size 1440x360 with 1 Axes>"
      ]
     },
     "metadata": {
      "needs_background": "light"
     },
     "output_type": "display_data"
    }
   ],
   "source": [
    "plt.figure(figsize = (20,5))\n",
    "plt.title(\"Feature importances\")\n",
    "plt.bar(range(50), list(sorted_importances[0].keys())[:50], color=\"g\", align=\"center\", label='Positive', alpha=0.4)\n",
    "plt.xticks(range(50), list(sorted_importances[0].values())[:50], rotation=90)\n",
    "plt.xlim([-1, 50])\n",
    "plt.legend()\n",
    "plt.show()"
   ]
  },
  {
   "cell_type": "markdown",
   "id": "46227f42",
   "metadata": {},
   "source": [
    "#### Seems like many English words appear, so we might need to remove them."
   ]
  },
  {
   "cell_type": "code",
   "execution_count": 18,
   "id": "3f210825",
   "metadata": {},
   "outputs": [
    {
     "data": {
      "image/png": "[encoded data removed]",
      "text/plain": [
       "<Figure size 1440x360 with 1 Axes>"
      ]
     },
     "metadata": {
      "needs_background": "light"
     },
     "output_type": "display_data"
    }
   ],
   "source": [
    "plt.figure(figsize = (20,5))\n",
    "plt.title(\"Feature importances\")\n",
    "plt.bar(range(100), list(sorted_importances[1].keys())[:100], color=\"r\", align=\"center\", label='Negative', alpha=0.4)\n",
    "plt.xticks(range(100), list(sorted_importances[1].values())[:100], rotation=90)\n",
    "plt.xlim([-1, 80])\n",
    "plt.legend()\n",
    "plt.show()"
   ]
  },
  {
   "cell_type": "code",
   "execution_count": 19,
   "id": "5185155e",
   "metadata": {},
   "outputs": [
    {
     "data": {
      "image/png": "[encoded data removed]",
      "text/plain": [
       "<Figure size 1440x360 with 1 Axes>"
      ]
     },
     "metadata": {
      "needs_background": "light"
     },
     "output_type": "display_data"
    }
   ],
   "source": [
    "plt.figure(figsize = (20,5))\n",
    "plt.title(\"Feature importances\")\n",
    "plt.bar(range(100), list(sorted_importances[2].keys())[:100], color=\"y\", align=\"center\", label='Neutral Sentimetnt', alpha=0.4)\n",
    "plt.xticks(range(100), list(sorted_importances[2].values())[:100], rotation=90)\n",
    "plt.xlim([-1, 80])\n",
    "plt.legend()\n",
    "plt.show()"
   ]
  },
  {
   "cell_type": "code",
   "execution_count": 20,
   "id": "ad892bb9",
   "metadata": {},
   "outputs": [],
   "source": [
    "df_freq = pd.concat([morph_train, morph_test], ignore_index = True)"
   ]
  },
  {
   "cell_type": "code",
   "execution_count": 21,
   "id": "8d087412",
   "metadata": {},
   "outputs": [
    {
     "data": {
      "text/html": [
       "<div>\n",
       "<style scoped>\n",
       "    .dataframe tbody tr th:only-of-type {\n",
       "        vertical-align: middle;\n",
       "    }\n",
       "\n",
       "    .dataframe tbody tr th {\n",
       "        vertical-align: top;\n",
       "    }\n",
       "\n",
       "    .dataframe thead th {\n",
       "        text-align: right;\n",
       "    }\n",
       "</style>\n",
       "<table border=\"1\" class=\"dataframe\">\n",
       "  <thead>\n",
       "    <tr style=\"text-align: right;\">\n",
       "      <th></th>\n",
       "      <th>frequency</th>\n",
       "    </tr>\n",
       "  </thead>\n",
       "  <tbody>\n",
       "    <tr>\n",
       "      <th>נשיא</th>\n",
       "      <td>3998</td>\n",
       "    </tr>\n",
       "    <tr>\n",
       "      <th>את</th>\n",
       "      <td>3178</td>\n",
       "    </tr>\n",
       "    <tr>\n",
       "      <th>כבוד</th>\n",
       "      <td>1862</td>\n",
       "    </tr>\n",
       "    <tr>\n",
       "      <th>הצלחה</th>\n",
       "      <td>1749</td>\n",
       "    </tr>\n",
       "    <tr>\n",
       "      <th>רובי</th>\n",
       "      <td>944</td>\n",
       "    </tr>\n",
       "    <tr>\n",
       "      <th>מדינת</th>\n",
       "      <td>713</td>\n",
       "    </tr>\n",
       "    <tr>\n",
       "      <th>מדינה</th>\n",
       "      <td>711</td>\n",
       "    </tr>\n",
       "    <tr>\n",
       "      <th>ריבלין</th>\n",
       "      <td>624</td>\n",
       "    </tr>\n",
       "    <tr>\n",
       "      <th>יקר</th>\n",
       "      <td>550</td>\n",
       "    </tr>\n",
       "    <tr>\n",
       "      <th>איש</th>\n",
       "      <td>541</td>\n",
       "    </tr>\n",
       "  </tbody>\n",
       "</table>\n",
       "</div>"
      ],
      "text/plain": [
       "        frequency\n",
       "נשיא         3998\n",
       "את           3178\n",
       "כבוד         1862\n",
       "הצלחה        1749\n",
       "רובי          944\n",
       "מדינת         713\n",
       "מדינה         711\n",
       "ריבלין        624\n",
       "יקר           550\n",
       "איש           541"
      ]
     },
     "execution_count": 21,
     "metadata": {},
     "output_type": "execute_result"
    }
   ],
   "source": [
    "cv_pos = CountVectorizer(analyzer='word')\n",
    "\n",
    "# Vectorizing pos reviews set\n",
    "vect = CountVectorizer(stop_words = heb_stopwords, analyzer='word')\n",
    "vect_pos = vect.fit_transform(df_freq[df_freq.y.isin(['Pos'])].Sentence)\n",
    "\n",
    "# Visualising the high frequency words for positive set\n",
    "df_freq_pos = pd.DataFrame(vect_pos.sum(axis=0), columns=list(vect.get_feature_names()), index = ['frequency']).T\n",
    "df_freq_pos.nlargest(10, 'frequency')"
   ]
  },
  {
   "cell_type": "code",
   "execution_count": 22,
   "id": "19371563",
   "metadata": {},
   "outputs": [
    {
     "data": {
      "text/html": [
       "<div>\n",
       "<style scoped>\n",
       "    .dataframe tbody tr th:only-of-type {\n",
       "        vertical-align: middle;\n",
       "    }\n",
       "\n",
       "    .dataframe tbody tr th {\n",
       "        vertical-align: top;\n",
       "    }\n",
       "\n",
       "    .dataframe thead th {\n",
       "        text-align: right;\n",
       "    }\n",
       "</style>\n",
       "<table border=\"1\" class=\"dataframe\">\n",
       "  <thead>\n",
       "    <tr style=\"text-align: right;\">\n",
       "      <th></th>\n",
       "      <th>frequency</th>\n",
       "    </tr>\n",
       "  </thead>\n",
       "  <tbody>\n",
       "    <tr>\n",
       "      <th>את</th>\n",
       "      <td>4406</td>\n",
       "    </tr>\n",
       "    <tr>\n",
       "      <th>נשיא</th>\n",
       "      <td>2026</td>\n",
       "    </tr>\n",
       "    <tr>\n",
       "      <th>מדינה</th>\n",
       "      <td>782</td>\n",
       "    </tr>\n",
       "    <tr>\n",
       "      <th>כבוד</th>\n",
       "      <td>690</td>\n",
       "    </tr>\n",
       "    <tr>\n",
       "      <th>יהודי</th>\n",
       "      <td>686</td>\n",
       "    </tr>\n",
       "    <tr>\n",
       "      <th>התבוללות</th>\n",
       "      <td>634</td>\n",
       "    </tr>\n",
       "    <tr>\n",
       "      <th>יהודים</th>\n",
       "      <td>533</td>\n",
       "    </tr>\n",
       "    <tr>\n",
       "      <th>מדינת</th>\n",
       "      <td>474</td>\n",
       "    </tr>\n",
       "    <tr>\n",
       "      <th>ערבים</th>\n",
       "      <td>449</td>\n",
       "    </tr>\n",
       "    <tr>\n",
       "      <th>ערבי</th>\n",
       "      <td>382</td>\n",
       "    </tr>\n",
       "  </tbody>\n",
       "</table>\n",
       "</div>"
      ],
      "text/plain": [
       "          frequency\n",
       "את             4406\n",
       "נשיא           2026\n",
       "מדינה           782\n",
       "כבוד            690\n",
       "יהודי           686\n",
       "התבוללות        634\n",
       "יהודים          533\n",
       "מדינת           474\n",
       "ערבים           449\n",
       "ערבי            382"
      ]
     },
     "execution_count": 22,
     "metadata": {},
     "output_type": "execute_result"
    }
   ],
   "source": [
    "cv_neg = CountVectorizer(analyzer='word')\n",
    "\n",
    "# Vectorizing neg reviews set\n",
    "vect = CountVectorizer(stop_words = heb_stopwords, analyzer='word')\n",
    "vect_neg = vect.fit_transform(df_freq[df_freq.y.isin(['Neg'])].Sentence)\n",
    "\n",
    "# Visualising the high frequency words for positive set\n",
    "df_freq_neg = pd.DataFrame(vect_neg.sum(axis=0), columns=list(vect.get_feature_names()), index = ['frequency']).T\n",
    "df_freq_neg.nlargest(10, 'frequency')"
   ]
  },
  {
   "cell_type": "code",
   "execution_count": 23,
   "id": "3eb3997d",
   "metadata": {},
   "outputs": [
    {
     "data": {
      "text/html": [
       "<div>\n",
       "<style scoped>\n",
       "    .dataframe tbody tr th:only-of-type {\n",
       "        vertical-align: middle;\n",
       "    }\n",
       "\n",
       "    .dataframe tbody tr th {\n",
       "        vertical-align: top;\n",
       "    }\n",
       "\n",
       "    .dataframe thead th {\n",
       "        text-align: right;\n",
       "    }\n",
       "</style>\n",
       "<table border=\"1\" class=\"dataframe\">\n",
       "  <thead>\n",
       "    <tr style=\"text-align: right;\">\n",
       "      <th></th>\n",
       "      <th>frequency</th>\n",
       "    </tr>\n",
       "  </thead>\n",
       "  <tbody>\n",
       "    <tr>\n",
       "      <th>את</th>\n",
       "      <td>371</td>\n",
       "    </tr>\n",
       "    <tr>\n",
       "      <th>נשיא</th>\n",
       "      <td>43</td>\n",
       "    </tr>\n",
       "    <tr>\n",
       "      <th>כש</th>\n",
       "      <td>35</td>\n",
       "    </tr>\n",
       "    <tr>\n",
       "      <th>גאי</th>\n",
       "      <td>28</td>\n",
       "    </tr>\n",
       "    <tr>\n",
       "      <th>נהיגה</th>\n",
       "      <td>28</td>\n",
       "    </tr>\n",
       "    <tr>\n",
       "      <th>ייק</th>\n",
       "      <td>25</td>\n",
       "    </tr>\n",
       "    <tr>\n",
       "      <th>כבוד</th>\n",
       "      <td>24</td>\n",
       "    </tr>\n",
       "    <tr>\n",
       "      <th>נכים</th>\n",
       "      <td>24</td>\n",
       "    </tr>\n",
       "    <tr>\n",
       "      <th>צפון</th>\n",
       "      <td>24</td>\n",
       "    </tr>\n",
       "    <tr>\n",
       "      <th>דף</th>\n",
       "      <td>23</td>\n",
       "    </tr>\n",
       "  </tbody>\n",
       "</table>\n",
       "</div>"
      ],
      "text/plain": [
       "       frequency\n",
       "את           371\n",
       "נשיא          43\n",
       "כש            35\n",
       "גאי           28\n",
       "נהיגה         28\n",
       "ייק           25\n",
       "כבוד          24\n",
       "נכים          24\n",
       "צפון          24\n",
       "דף            23"
      ]
     },
     "execution_count": 23,
     "metadata": {},
     "output_type": "execute_result"
    }
   ],
   "source": [
    "cv_nat = CountVectorizer(analyzer='word')\n",
    "\n",
    "# Vectorizing nat reviews set\n",
    "vect = CountVectorizer(stop_words = heb_stopwords, analyzer='word')\n",
    "vect_nat = vect.fit_transform(df_freq[df_freq.y.isin(['Nat'])].Sentence)\n",
    "\n",
    "# Visualising the high frequency words for positive set\n",
    "df_freq_nat = pd.DataFrame(vect_nat.sum(axis=0), columns=list(vect.get_feature_names()), index = ['frequency']).T\n",
    "df_freq_nat.nlargest(10, 'frequency')"
   ]
  },
  {
   "cell_type": "code",
   "execution_count": 27,
   "id": "1ccb5760",
   "metadata": {},
   "outputs": [],
   "source": [
    "neg = df_freq.y == \"Neg\"\n"
   ]
  },
  {
   "cell_type": "code",
   "execution_count": 45,
   "id": "ceba3574",
   "metadata": {},
   "outputs": [
    {
     "name": "stdout",
     "output_type": "stream",
     "text": [
      "9        אדוני נשיא סליחה בוטות תפסיק לזיין את התבטאת מ...\n",
      "11                                  חשבתי הגיע נשיא נורמלי\n",
      "12       נשיא מדינה מנותק חכם דיבורים אמת לטפל פצעי מכו...\n",
      "14        רובי ריבלין יקר איש משפחה היית מגיב מתחתנת ער...\n",
      "18                                         תפקיד שכחת באת \n",
      "                               ...                        \n",
      "12738     תגיד גיא יהודי עוקר את תורה דת הפעם אחרונה נכ...\n",
      "12739    לצטט את זבוטינסקי כבוד נשיא תתמקד תורה קדושה ז...\n",
      "12740                רובי יקר נשיא מדינת ביתך היית עשה את \n",
      "12744    אדוני נשיא תנסה להקיא את חברי הכנסת ערביים בוג...\n",
      "12748    קרה נהיית נשיא נהיית פרס תתעסק הסתות ערבים תבו...\n",
      "Name: Sentence, Length: 3915, dtype: object\n"
     ]
    }
   ],
   "source": [
    "print(df_freq[neg]['Sentence'])"
   ]
  },
  {
   "cell_type": "code",
   "execution_count": 48,
   "id": "481a36ed",
   "metadata": {},
   "outputs": [
    {
     "ename": "TypeError",
     "evalue": "expected string or bytes-like object",
     "output_type": "error",
     "traceback": [
      "\u001b[1;31m---------------------------------------------------------------------------\u001b[0m",
      "\u001b[1;31mTypeError\u001b[0m                                 Traceback (most recent call last)",
      "\u001b[1;32m<ipython-input-48-a79ed58a0a0c>\u001b[0m in \u001b[0;36m<module>\u001b[1;34m\u001b[0m\n\u001b[0;32m      2\u001b[0m \u001b[0mtext\u001b[0m \u001b[1;33m=\u001b[0m \u001b[0mdf_freq\u001b[0m\u001b[1;33m[\u001b[0m\u001b[0mneg\u001b[0m\u001b[1;33m]\u001b[0m\u001b[1;33m[\u001b[0m\u001b[1;34m'Sentence'\u001b[0m\u001b[1;33m]\u001b[0m\u001b[1;33m\u001b[0m\u001b[1;33m\u001b[0m\u001b[0m\n\u001b[0;32m      3\u001b[0m \u001b[1;31m# Create and generate a word cloud image:\u001b[0m\u001b[1;33m\u001b[0m\u001b[1;33m\u001b[0m\u001b[1;33m\u001b[0m\u001b[0m\n\u001b[1;32m----> 4\u001b[1;33m \u001b[0mwordcloud\u001b[0m \u001b[1;33m=\u001b[0m \u001b[0mWordCloud\u001b[0m\u001b[1;33m(\u001b[0m\u001b[1;33m)\u001b[0m\u001b[1;33m.\u001b[0m\u001b[0mgenerate\u001b[0m\u001b[1;33m(\u001b[0m\u001b[0mtext\u001b[0m\u001b[1;33m)\u001b[0m\u001b[1;33m\u001b[0m\u001b[1;33m\u001b[0m\u001b[0m\n\u001b[0m\u001b[0;32m      5\u001b[0m \u001b[1;33m\u001b[0m\u001b[0m\n\u001b[0;32m      6\u001b[0m \u001b[1;31m# Display the generated image:\u001b[0m\u001b[1;33m\u001b[0m\u001b[1;33m\u001b[0m\u001b[1;33m\u001b[0m\u001b[0m\n",
      "\u001b[1;32m~\\Anaconda3\\lib\\site-packages\\wordcloud\\wordcloud.py\u001b[0m in \u001b[0;36mgenerate\u001b[1;34m(self, text)\u001b[0m\n\u001b[0;32m    630\u001b[0m         \u001b[0mself\u001b[0m\u001b[1;33m\u001b[0m\u001b[1;33m\u001b[0m\u001b[0m\n\u001b[0;32m    631\u001b[0m         \"\"\"\n\u001b[1;32m--> 632\u001b[1;33m         \u001b[1;32mreturn\u001b[0m \u001b[0mself\u001b[0m\u001b[1;33m.\u001b[0m\u001b[0mgenerate_from_text\u001b[0m\u001b[1;33m(\u001b[0m\u001b[0mtext\u001b[0m\u001b[1;33m)\u001b[0m\u001b[1;33m\u001b[0m\u001b[1;33m\u001b[0m\u001b[0m\n\u001b[0m\u001b[0;32m    633\u001b[0m \u001b[1;33m\u001b[0m\u001b[0m\n\u001b[0;32m    634\u001b[0m     \u001b[1;32mdef\u001b[0m \u001b[0m_check_generated\u001b[0m\u001b[1;33m(\u001b[0m\u001b[0mself\u001b[0m\u001b[1;33m)\u001b[0m\u001b[1;33m:\u001b[0m\u001b[1;33m\u001b[0m\u001b[1;33m\u001b[0m\u001b[0m\n",
      "\u001b[1;32m~\\Anaconda3\\lib\\site-packages\\wordcloud\\wordcloud.py\u001b[0m in \u001b[0;36mgenerate_from_text\u001b[1;34m(self, text)\u001b[0m\n\u001b[0;32m    611\u001b[0m         \u001b[0mself\u001b[0m\u001b[1;33m\u001b[0m\u001b[1;33m\u001b[0m\u001b[0m\n\u001b[0;32m    612\u001b[0m         \"\"\"\n\u001b[1;32m--> 613\u001b[1;33m         \u001b[0mwords\u001b[0m \u001b[1;33m=\u001b[0m \u001b[0mself\u001b[0m\u001b[1;33m.\u001b[0m\u001b[0mprocess_text\u001b[0m\u001b[1;33m(\u001b[0m\u001b[0mtext\u001b[0m\u001b[1;33m)\u001b[0m\u001b[1;33m\u001b[0m\u001b[1;33m\u001b[0m\u001b[0m\n\u001b[0m\u001b[0;32m    614\u001b[0m         \u001b[0mself\u001b[0m\u001b[1;33m.\u001b[0m\u001b[0mgenerate_from_frequencies\u001b[0m\u001b[1;33m(\u001b[0m\u001b[0mwords\u001b[0m\u001b[1;33m)\u001b[0m\u001b[1;33m\u001b[0m\u001b[1;33m\u001b[0m\u001b[0m\n\u001b[0;32m    615\u001b[0m         \u001b[1;32mreturn\u001b[0m \u001b[0mself\u001b[0m\u001b[1;33m\u001b[0m\u001b[1;33m\u001b[0m\u001b[0m\n",
      "\u001b[1;32m~\\Anaconda3\\lib\\site-packages\\wordcloud\\wordcloud.py\u001b[0m in \u001b[0;36mprocess_text\u001b[1;34m(self, text)\u001b[0m\n\u001b[0;32m    573\u001b[0m         \u001b[0mregexp\u001b[0m \u001b[1;33m=\u001b[0m \u001b[0mself\u001b[0m\u001b[1;33m.\u001b[0m\u001b[0mregexp\u001b[0m \u001b[1;32mif\u001b[0m \u001b[0mself\u001b[0m\u001b[1;33m.\u001b[0m\u001b[0mregexp\u001b[0m \u001b[1;32mis\u001b[0m \u001b[1;32mnot\u001b[0m \u001b[1;32mNone\u001b[0m \u001b[1;32melse\u001b[0m \u001b[0mpattern\u001b[0m\u001b[1;33m\u001b[0m\u001b[1;33m\u001b[0m\u001b[0m\n\u001b[0;32m    574\u001b[0m \u001b[1;33m\u001b[0m\u001b[0m\n\u001b[1;32m--> 575\u001b[1;33m         \u001b[0mwords\u001b[0m \u001b[1;33m=\u001b[0m \u001b[0mre\u001b[0m\u001b[1;33m.\u001b[0m\u001b[0mfindall\u001b[0m\u001b[1;33m(\u001b[0m\u001b[0mregexp\u001b[0m\u001b[1;33m,\u001b[0m \u001b[0mtext\u001b[0m\u001b[1;33m,\u001b[0m \u001b[0mflags\u001b[0m\u001b[1;33m)\u001b[0m\u001b[1;33m\u001b[0m\u001b[1;33m\u001b[0m\u001b[0m\n\u001b[0m\u001b[0;32m    576\u001b[0m         \u001b[1;31m# remove 's\u001b[0m\u001b[1;33m\u001b[0m\u001b[1;33m\u001b[0m\u001b[1;33m\u001b[0m\u001b[0m\n\u001b[0;32m    577\u001b[0m         words = [word[:-2] if word.lower().endswith(\"'s\") else word\n",
      "\u001b[1;32m~\\Anaconda3\\lib\\re.py\u001b[0m in \u001b[0;36mfindall\u001b[1;34m(pattern, string, flags)\u001b[0m\n\u001b[0;32m    239\u001b[0m \u001b[1;33m\u001b[0m\u001b[0m\n\u001b[0;32m    240\u001b[0m     Empty matches are included in the result.\"\"\"\n\u001b[1;32m--> 241\u001b[1;33m     \u001b[1;32mreturn\u001b[0m \u001b[0m_compile\u001b[0m\u001b[1;33m(\u001b[0m\u001b[0mpattern\u001b[0m\u001b[1;33m,\u001b[0m \u001b[0mflags\u001b[0m\u001b[1;33m)\u001b[0m\u001b[1;33m.\u001b[0m\u001b[0mfindall\u001b[0m\u001b[1;33m(\u001b[0m\u001b[0mstring\u001b[0m\u001b[1;33m)\u001b[0m\u001b[1;33m\u001b[0m\u001b[1;33m\u001b[0m\u001b[0m\n\u001b[0m\u001b[0;32m    242\u001b[0m \u001b[1;33m\u001b[0m\u001b[0m\n\u001b[0;32m    243\u001b[0m \u001b[1;32mdef\u001b[0m \u001b[0mfinditer\u001b[0m\u001b[1;33m(\u001b[0m\u001b[0mpattern\u001b[0m\u001b[1;33m,\u001b[0m \u001b[0mstring\u001b[0m\u001b[1;33m,\u001b[0m \u001b[0mflags\u001b[0m\u001b[1;33m=\u001b[0m\u001b[1;36m0\u001b[0m\u001b[1;33m)\u001b[0m\u001b[1;33m:\u001b[0m\u001b[1;33m\u001b[0m\u001b[1;33m\u001b[0m\u001b[0m\n",
      "\u001b[1;31mTypeError\u001b[0m: expected string or bytes-like object"
     ]
    }
   ],
   "source": [
    "# Start with one review:\n",
    "text = df_freq[neg]\n",
    "# Create and generate a word cloud image:\n",
    "wordcloud = WordCloud().generate(text)\n",
    "\n",
    "# Display the generated image:\n",
    "plt.imshow(wordcloud, interpolation='bilinear')\n",
    "plt.axis(\"off\")\n",
    "plt.show()"
   ]
  },
  {
   "cell_type": "code",
   "execution_count": null,
   "id": "acc8d4aa",
   "metadata": {},
   "outputs": [],
   "source": []
  },
  {
   "cell_type": "code",
   "execution_count": null,
   "id": "d69aac16",
   "metadata": {},
   "outputs": [],
   "source": []
  },
  {
   "cell_type": "code",
   "execution_count": null,
   "id": "3345cd62",
   "metadata": {},
   "outputs": [],
   "source": []
  }
 ],
 "metadata": {
  "kernelspec": {
   "display_name": "Python 3",
   "language": "python",
   "name": "python3"
  },
  "language_info": {
   "codemirror_mode": {
    "name": "ipython",
    "version": 3
   },
   "file_extension": ".py",
   "mimetype": "text/x-python",
   "name": "python",
   "nbconvert_exporter": "python",
   "pygments_lexer": "ipython3",
   "version": "3.8.8"
  }
 },
 "nbformat": 4,
 "nbformat_minor": 5
}
