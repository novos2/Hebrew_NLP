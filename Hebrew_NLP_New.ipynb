{
 "cells": [
  {
   "cell_type": "markdown",
   "id": "0db516e7",
   "metadata": {},
   "source": [
    "## OJT1 - Hebrew  Sentimental Classifier"
   ]
  },
  {
   "cell_type": "code",
   "execution_count": 1,
   "id": "284f65c2",
   "metadata": {},
   "outputs": [],
   "source": [
    "import codecs\n",
    "import re\n",
    "import numpy as np\n",
    "from sklearn.feature_extraction.text import TfidfTransformer \n",
    "from sklearn.feature_extraction.text import TfidfVectorizer\n",
    "from sklearn.linear_model import LogisticRegression"
   ]
  },
  {
   "cell_type": "markdown",
   "id": "42bf5c30",
   "metadata": {},
   "source": [
    "### Conversion of data to train & test"
   ]
  },
  {
   "cell_type": "code",
   "execution_count": 2,
   "id": "0a2fd671",
   "metadata": {},
   "outputs": [],
   "source": [
    "# First, we convert all tsv files to train & test\n",
    "def convert(file):\n",
    "    temp_list = list(codecs.open(file, 'r', 'utf-8').readlines()) # Open tsv file, and convert it to list\n",
    "    out_arr = list(zip(*np.char.split(temp_list, sep ='\\t'))) # make a list of comments and target vectors\n",
    "    sentences = list(out_arr)[0] # get sentences\n",
    "    target_vector = list([letter[0] for letter in out_arr[1]]) # Get target vectors\n",
    "    return sentences, target_vector\n",
    "\n",
    "morph_train_path='data\\\\morph_train.tsv' # Path where data exist\n",
    "morph_test_path='data\\\\morph_test.tsv'\n",
    "\n",
    "x_train, y_train = convert(morph_train_path)\n",
    "x_test, y_test = convert(morph_test_path)"
   ]
  },
  {
   "cell_type": "markdown",
   "id": "bf81122e",
   "metadata": {},
   "source": [
    "### TF - IDF vectorizer (for train & test)"
   ]
  },
  {
   "cell_type": "code",
   "execution_count": 3,
   "id": "99e5bad8",
   "metadata": {},
   "outputs": [
    {
     "name": "stdout",
     "output_type": "stream",
     "text": [
      "(10244, 17435)\n"
     ]
    }
   ],
   "source": [
    "# For x morph train data\n",
    "tfidf_vectorizer_morph_train=TfidfVectorizer(use_idf=True, max_df = 0.95) \n",
    "tfidf_vectorizer_vectors_morph_train=tfidf_vectorizer_morph_train.fit_transform(x_train)\n",
    "print(tfidf_vectorizer_vectors_morph_train.shape)"
   ]
  },
  {
   "cell_type": "code",
   "execution_count": 4,
   "id": "50451d4f",
   "metadata": {},
   "outputs": [
    {
     "name": "stdout",
     "output_type": "stream",
     "text": [
      "(2560, 17435)\n"
     ]
    }
   ],
   "source": [
    "# For x morph test data\n",
    "tfidf_vectorizer_vectors_morph_test=tfidf_vectorizer_morph_train.transform(x_test)\n",
    "print(tfidf_vectorizer_vectors_morph_test.shape)"
   ]
  },
  {
   "cell_type": "markdown",
   "id": "b5ee1a58",
   "metadata": {},
   "source": [
    "### Logistic Regression Classifier"
   ]
  },
  {
   "cell_type": "code",
   "execution_count": 5,
   "id": "45c25584",
   "metadata": {},
   "outputs": [],
   "source": [
    "def simple_logistic_classify(X_tr, y_tr, _C=1.0):\n",
    "    model = LogisticRegression(C=_C).fit(X_tr, y_tr) # Creates a classifier\n",
    "    return model\n",
    "\n",
    "model = simple_logistic_classify(tfidf_vectorizer_vectors_morph_train,y_train)"
   ]
  },
  {
   "cell_type": "code",
   "execution_count": 6,
   "id": "c3124ba8",
   "metadata": {},
   "outputs": [
    {
     "data": {
      "text/plain": [
       "array(['0', '0', '0', ..., '1', '0', '0'], dtype='<U1')"
      ]
     },
     "execution_count": 6,
     "metadata": {},
     "output_type": "execute_result"
    }
   ],
   "source": [
    "model.predict(tfidf_vectorizer_vectors_morph_test)"
   ]
  },
  {
   "cell_type": "code",
   "execution_count": 7,
   "id": "45036fa0",
   "metadata": {},
   "outputs": [
    {
     "data": {
      "text/plain": [
       "0.9"
      ]
     },
     "execution_count": 7,
     "metadata": {},
     "output_type": "execute_result"
    }
   ],
   "source": [
    "model.score(tfidf_vectorizer_vectors_morph_test, y_test)"
   ]
  },
  {
   "cell_type": "markdown",
   "id": "d68e0133",
   "metadata": {},
   "source": [
    "#### Might be a sign for overfit?"
   ]
  },
  {
   "cell_type": "code",
   "execution_count": null,
   "id": "95aca26e",
   "metadata": {},
   "outputs": [],
   "source": []
  }
 ],
 "metadata": {
  "kernelspec": {
   "display_name": "Python 3",
   "language": "python",
   "name": "python3"
  },
  "language_info": {
   "codemirror_mode": {
    "name": "ipython",
    "version": 3
   },
   "file_extension": ".py",
   "mimetype": "text/x-python",
   "name": "python",
   "nbconvert_exporter": "python",
   "pygments_lexer": "ipython3",
   "version": "3.8.8"
  }
 },
 "nbformat": 4,
 "nbformat_minor": 5
}
